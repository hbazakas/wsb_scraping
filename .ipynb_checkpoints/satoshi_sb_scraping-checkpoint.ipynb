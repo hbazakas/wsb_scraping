{
 "cells": [
  {
   "cell_type": "markdown",
   "metadata": {},
   "source": [
    "## satoshistreetbets Trend Data\n",
    "\n",
    "This notebook looks at recent posts from r/satoshistreetbets to determine the hottest stocks right now. The onjective is to determine what stocks are generating buzz on the internet in hopes of anticipating future movement.\n",
    "\n",
    "First, it scrapes all crypto tickers currently in use to create a list of symbols to search for.\n",
    "\n",
    "Next, it uses PRAW, a Python Wrapper for Reddit's API, to scrape the comments from the 25 hottest posts in r/wallstreetbets. It then parses these comments to find the most commonly referenced ticker symbols, excepting tickers that are also common english words (I, A, AN, etc.).\n",
    "\n",
    "\n",
    "Credit to Gilbert Tanner, writer of <a href = \"https://towardsdatascience.com/scraping-reddit-data-1c0af3040768\">this</a> article detailing how to use PRAW to scrape Reddit data."
   ]
  },
  {
   "cell_type": "markdown",
   "metadata": {},
   "source": [
    "### Imports"
   ]
  },
  {
   "cell_type": "code",
   "execution_count": 2,
   "metadata": {},
   "outputs": [],
   "source": [
    "import praw\n",
    "import pandas as pd\n",
    "import time\n",
    "import requests\n",
    "from bs4 import BeautifulSoup\n",
    "from collections import Counter\n",
    "from nltk.corpus import stopwords\n"
   ]
  },
  {
   "cell_type": "markdown",
   "metadata": {},
   "source": [
    "### All Ticker Symbols\n",
    "\n",
    "Uses <a href = 'https://www.crummy.com/software/BeautifulSoup/bs4/doc/'>BeautifulSoup</a> to scrape a list of stock tickers from https://stockanalysis.com/stocks/. Leaves us with a list of 661 stock tickers and the corresponding name of each company. This is the universe of stocks we will look for in trends from Reddit data."
   ]
  },
  {
   "cell_type": "code",
   "execution_count": 44,
   "metadata": {},
   "outputs": [
    {
     "data": {
      "text/plain": [
       "(200, 200)"
      ]
     },
     "execution_count": 44,
     "metadata": {},
     "output_type": "execute_result"
    }
   ],
   "source": [
    "#Pulls names and tickers for top 200 cryptocurrencies by market cap\n",
    "\n",
    "URL = 'https://coinmarketcap.com/all/views/all/'\n",
    "page = requests.get(URL)\n",
    "soup = BeautifulSoup(page.content, 'lxml')\n",
    "names = soup.find_all('td', \n",
    "                        class_ = 'cmc-table__cell cmc-table__cell--sticky cmc-table__cell--sortable cmc-table__cell--left cmc-table__cell--sort-by__name')\n",
    "name_list = []\n",
    "\n",
    "for i in names:\n",
    "    name_list.append(i.text.split('\\\">\"')[0])\n",
    "\n",
    "tickers = soup.find_all('td', \n",
    "                        class_ = 'cmc-table__cell cmc-table__cell--sortable cmc-table__cell--left cmc-table__cell--sort-by__symbol')\n",
    "ticker_list = []\n",
    "\n",
    "for i in tickers:\n",
    "    ticker_list.append(i.text.split('\\\">\"')[0])\n",
    "\n",
    "len(ticker_list), len(name_list)"
   ]
  },
  {
   "cell_type": "markdown",
   "metadata": {},
   "source": [
    "### Reddit Data"
   ]
  },
  {
   "cell_type": "code",
   "execution_count": 30,
   "metadata": {},
   "outputs": [],
   "source": [
    "reddit = praw.Reddit(client_id='HG7dA6CRLvCD_w',\n",
    "                     client_secret='rH5FP42F__la6jpUdt01BQvZU48WiA', \n",
    "                     user_agent='WSB_Trends')"
   ]
  },
  {
   "cell_type": "code",
   "execution_count": 31,
   "metadata": {},
   "outputs": [],
   "source": [
    "posts = []\n",
    "ml_subreddit = reddit.subreddit('satoshistreetbets')\n",
    "for post in ml_subreddit.hot(limit = 25):\n",
    "    posts.append([post.title, post.score, post.id, post.subreddit, post.url, post.num_comments, post.selftext, post.created])\n",
    "posts = pd.DataFrame(posts,columns=['title', 'score', 'id', 'subreddit', 'url', 'num_comments', 'body', 'created'])\n",
    "\n",
    "#print(posts)"
   ]
  },
  {
   "cell_type": "code",
   "execution_count": 32,
   "metadata": {
    "scrolled": false
   },
   "outputs": [
    {
     "name": "stdout",
     "output_type": "stream",
     "text": [
      "938\n"
     ]
    }
   ],
   "source": [
    "## All comments within the last 6 hours from top 25 hottest posts in WSB\n",
    "comment_count = 0\n",
    "comments_last_hour = \"\"\n",
    "\n",
    "\n",
    "for post_id in posts.id:\n",
    "    submission = reddit.submission(id=post_id)\n",
    "    submission.comments.replace_more(limit=0)\n",
    "    for comment in submission.comments.list():\n",
    "        '''Loops through all comments. comment.body is a string with each comment's contents. \n",
    "        comment.created is the time the comment was created.'''\n",
    "        comment_age = (comment.created - time.time())/3600\n",
    "        if comment_age <=6:\n",
    "            comments_last_hour += comment.body + \" \"\n",
    "            comment_count+=1\n",
    "\n",
    "print(comment_count)"
   ]
  },
  {
   "cell_type": "code",
   "execution_count": 33,
   "metadata": {},
   "outputs": [],
   "source": [
    "for character in'$ -.,\\n':\n",
    "    comments_last_hour = comments_last_hour.replace(character, \" \")\n",
    "#comments_last_hour = comments_last_hour.upper()\n",
    "\n",
    "comments_last_hour = comments_last_hour.split()\n",
    "last_hour_word_counts = Counter(comments_last_hour)"
   ]
  },
  {
   "cell_type": "code",
   "execution_count": 35,
   "metadata": {
    "scrolled": true
   },
   "outputs": [],
   "source": [
    "stopwords_list = stopwords.words('english')\n",
    "\n",
    "for ind in range(len(stopwords_list)):\n",
    "    stopwords_list[ind] = stopwords_list[ind].upper()"
   ]
  },
  {
   "cell_type": "code",
   "execution_count": 58,
   "metadata": {},
   "outputs": [],
   "source": [
    "frequencies = []\n",
    "\n",
    "for coin in range(len(ticker_list)):\n",
    "    freq = 0\n",
    "    #print(name_list[coin], ticker_list[coin])\n",
    "    if name_list[coin] not in stopwords_list:\n",
    "        freq+=last_hour_word_counts[name_list[coin]]\n",
    "    else:\n",
    "        freq+=0\n",
    "    if ticker_list[coin] not in stopwords_list:\n",
    "        freq+=last_hour_word_counts[ticker_list[coin]]\n",
    "    else:\n",
    "        freq+=0        \n",
    "    \n",
    "    frequencies.append(freq)"
   ]
  },
  {
   "cell_type": "code",
   "execution_count": 59,
   "metadata": {},
   "outputs": [
    {
     "data": {
      "text/html": [
       "<div>\n",
       "<style scoped>\n",
       "    .dataframe tbody tr th:only-of-type {\n",
       "        vertical-align: middle;\n",
       "    }\n",
       "\n",
       "    .dataframe tbody tr th {\n",
       "        vertical-align: top;\n",
       "    }\n",
       "\n",
       "    .dataframe thead th {\n",
       "        text-align: right;\n",
       "    }\n",
       "</style>\n",
       "<table border=\"1\" class=\"dataframe\">\n",
       "  <thead>\n",
       "    <tr style=\"text-align: right;\">\n",
       "      <th></th>\n",
       "      <th>name</th>\n",
       "      <th>ticker</th>\n",
       "      <th>frequency</th>\n",
       "    </tr>\n",
       "  </thead>\n",
       "  <tbody>\n",
       "    <tr>\n",
       "      <td>0</td>\n",
       "      <td>Bitcoin</td>\n",
       "      <td>BTC</td>\n",
       "      <td>36</td>\n",
       "    </tr>\n",
       "    <tr>\n",
       "      <td>2</td>\n",
       "      <td>Cardano</td>\n",
       "      <td>ADA</td>\n",
       "      <td>28</td>\n",
       "    </tr>\n",
       "    <tr>\n",
       "      <td>1</td>\n",
       "      <td>Ethereum</td>\n",
       "      <td>ETH</td>\n",
       "      <td>24</td>\n",
       "    </tr>\n",
       "    <tr>\n",
       "      <td>59</td>\n",
       "      <td>BitTorrent</td>\n",
       "      <td>BTT</td>\n",
       "      <td>21</td>\n",
       "    </tr>\n",
       "    <tr>\n",
       "      <td>14</td>\n",
       "      <td>Dogecoin</td>\n",
       "      <td>DOGE</td>\n",
       "      <td>18</td>\n",
       "    </tr>\n",
       "    <tr>\n",
       "      <td>72</td>\n",
       "      <td>Enjin Coin</td>\n",
       "      <td>ENJ</td>\n",
       "      <td>16</td>\n",
       "    </tr>\n",
       "    <tr>\n",
       "      <td>7</td>\n",
       "      <td>Litecoin</td>\n",
       "      <td>LTC</td>\n",
       "      <td>13</td>\n",
       "    </tr>\n",
       "    <tr>\n",
       "      <td>123</td>\n",
       "      <td>Harmony</td>\n",
       "      <td>ONE</td>\n",
       "      <td>11</td>\n",
       "    </tr>\n",
       "    <tr>\n",
       "      <td>26</td>\n",
       "      <td>VeChain</td>\n",
       "      <td>VET</td>\n",
       "      <td>11</td>\n",
       "    </tr>\n",
       "    <tr>\n",
       "      <td>10</td>\n",
       "      <td>Stellar</td>\n",
       "      <td>XLM</td>\n",
       "      <td>9</td>\n",
       "    </tr>\n",
       "    <tr>\n",
       "      <td>6</td>\n",
       "      <td>XRP</td>\n",
       "      <td>XRP</td>\n",
       "      <td>8</td>\n",
       "    </tr>\n",
       "    <tr>\n",
       "      <td>8</td>\n",
       "      <td>Chainlink</td>\n",
       "      <td>LINK</td>\n",
       "      <td>8</td>\n",
       "    </tr>\n",
       "    <tr>\n",
       "      <td>82</td>\n",
       "      <td>Nano</td>\n",
       "      <td>NANO</td>\n",
       "      <td>7</td>\n",
       "    </tr>\n",
       "    <tr>\n",
       "      <td>4</td>\n",
       "      <td>Tether</td>\n",
       "      <td>USDT</td>\n",
       "      <td>5</td>\n",
       "    </tr>\n",
       "    <tr>\n",
       "      <td>12</td>\n",
       "      <td>Uniswap</td>\n",
       "      <td>UNI</td>\n",
       "      <td>5</td>\n",
       "    </tr>\n",
       "  </tbody>\n",
       "</table>\n",
       "</div>"
      ],
      "text/plain": [
       "           name ticker frequency\n",
       "0       Bitcoin    BTC        36\n",
       "2       Cardano    ADA        28\n",
       "1      Ethereum    ETH        24\n",
       "59   BitTorrent    BTT        21\n",
       "14     Dogecoin   DOGE        18\n",
       "72   Enjin Coin    ENJ        16\n",
       "7      Litecoin    LTC        13\n",
       "123     Harmony    ONE        11\n",
       "26      VeChain    VET        11\n",
       "10      Stellar    XLM         9\n",
       "6           XRP    XRP         8\n",
       "8     Chainlink   LINK         8\n",
       "82         Nano   NANO         7\n",
       "4        Tether   USDT         5\n",
       "12      Uniswap    UNI         5"
      ]
     },
     "execution_count": 59,
     "metadata": {},
     "output_type": "execute_result"
    }
   ],
   "source": [
    "tickers_and_counts = pd.DataFrame([name_list, ticker_list, frequencies]).T\n",
    "tickers_and_counts.columns = ['name','ticker','frequency']\n",
    "tickers_and_counts.sort_values(by = ['frequency'], ascending = False)[0:15]"
   ]
  },
  {
   "cell_type": "code",
   "execution_count": null,
   "metadata": {},
   "outputs": [],
   "source": []
  }
 ],
 "metadata": {
  "kernelspec": {
   "display_name": "Python 3",
   "language": "python",
   "name": "python3"
  },
  "language_info": {
   "codemirror_mode": {
    "name": "ipython",
    "version": 3
   },
   "file_extension": ".py",
   "mimetype": "text/x-python",
   "name": "python",
   "nbconvert_exporter": "python",
   "pygments_lexer": "ipython3",
   "version": "3.7.4"
  }
 },
 "nbformat": 4,
 "nbformat_minor": 2
}
