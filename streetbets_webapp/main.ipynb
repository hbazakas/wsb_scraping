{
 "cells": [
  {
   "cell_type": "code",
   "execution_count": 1,
   "metadata": {},
   "outputs": [],
   "source": [
    "import praw\n",
    "import pandas as pd\n",
    "import time\n",
    "import requests\n",
    "from bs4 import BeautifulSoup\n",
    "from collections import Counter\n",
    "from nltk.corpus import stopwords"
   ]
  },
  {
   "cell_type": "code",
   "execution_count": 2,
   "metadata": {},
   "outputs": [],
   "source": [
    "start = time.time()"
   ]
  },
  {
   "cell_type": "code",
   "execution_count": 3,
   "metadata": {},
   "outputs": [
    {
     "data": {
      "text/plain": [
       "(6690, 6690)"
      ]
     },
     "execution_count": 3,
     "metadata": {},
     "output_type": "execute_result"
    }
   ],
   "source": [
    "#Stock Tickers and Names\n",
    "\n",
    "URL = 'https://stockanalysis.com/stocks/'\n",
    "page = requests.get(URL)\n",
    "soup = BeautifulSoup(page.content, 'lxml')\n",
    "wsb_tickers = soup.find_all('li')\n",
    "\n",
    "wsb_ticker_list = []\n",
    "wsb_name_list = []\n",
    "\n",
    "for i in wsb_tickers[12:-18]:\n",
    "    #print(i.text.split(\" - \"))\n",
    "    wsb_ticker_list.append(i.text.split(\" - \")[0])\n",
    "    wsb_name_list.append(i.text.split(\" - \")[1])\n",
    "    \n",
    "len(wsb_ticker_list), len(wsb_name_list)"
   ]
  },
  {
   "cell_type": "code",
   "execution_count": 4,
   "metadata": {},
   "outputs": [
    {
     "data": {
      "text/plain": [
       "(200, 200)"
      ]
     },
     "execution_count": 4,
     "metadata": {},
     "output_type": "execute_result"
    }
   ],
   "source": [
    "#Crypto Tickers and Names\n",
    "\n",
    "URL = 'https://coinmarketcap.com/all/views/all/'\n",
    "page = requests.get(URL)\n",
    "soup = BeautifulSoup(page.content, 'lxml')\n",
    "ssb_names = soup.find_all('td', \n",
    "                        class_ = 'cmc-table__cell cmc-table__cell--sticky cmc-table__cell--sortable cmc-table__cell--left cmc-table__cell--sort-by__name')\n",
    "ssb_name_list = []\n",
    "\n",
    "for i in ssb_names:\n",
    "    ssb_name_list.append(i.text.split('\\\">\"')[0])\n",
    "\n",
    "ssb_tickers = soup.find_all('td', \n",
    "                        class_ = 'cmc-table__cell cmc-table__cell--sortable cmc-table__cell--left cmc-table__cell--sort-by__symbol')\n",
    "ssb_ticker_list = []\n",
    "\n",
    "for i in ssb_tickers:\n",
    "    ssb_ticker_list.append(i.text.split('\\\">\"')[0])\n",
    "\n",
    "len(ssb_ticker_list), len(ssb_name_list)"
   ]
  },
  {
   "cell_type": "code",
   "execution_count": 5,
   "metadata": {},
   "outputs": [],
   "source": [
    "reddit = praw.Reddit(client_id='HG7dA6CRLvCD_w',\n",
    "                     client_secret='rH5FP42F__la6jpUdt01BQvZU48WiA', \n",
    "                     user_agent='WSB_Trends')\n",
    "\n",
    "stopwords_list = stopwords.words('english')\n",
    "\n",
    "for ind in range(len(stopwords_list)):\n",
    "    stopwords_list[ind] = stopwords_list[ind].upper()\n",
    "\n",
    "def comments_scraper(sub, comment_age, case_sensitive = False):\n",
    "    posts = []\n",
    "    subreddit = reddit.subreddit(sub)\n",
    "    for post in subreddit.hot(limit = 25):\n",
    "        posts.append([post.title, post.score, post.id, post.subreddit, post.url, post.num_comments, post.selftext, post.created])\n",
    "    posts = pd.DataFrame(posts,columns=['title', 'score', 'id', 'subreddit', 'url', 'num_comments', 'body', 'created'])\n",
    "\n",
    "    comment_count = 0\n",
    "    comments = \"\"\n",
    "\n",
    "    for post_id in posts.id:\n",
    "        submission = reddit.submission(id=post_id)\n",
    "        submission.comments.replace_more(limit=0)\n",
    "        for comment in submission.comments.list():\n",
    "            '''Loops through all comments. comment.body is a string with each comment's contents.\n",
    "            comment.created is the time the comment was created.'''\n",
    "            comment_age = (comment.created - time.time())/3600\n",
    "            if comment_age <=comment_age:\n",
    "                comments += comment.body + \" \"\n",
    "                comment_count+=1\n",
    "    if case_sensitive == False:\n",
    "        comments = comments.upper()\n",
    "\n",
    "    for character in'$ -.,\\n':\n",
    "        comments = comments.replace(character, \" \")\n",
    "\n",
    "    comments = comments.split()\n",
    "    comments_counter = Counter(comments)\n",
    "    return(comments_counter)"
   ]
  },
  {
   "cell_type": "code",
   "execution_count": 56,
   "metadata": {},
   "outputs": [],
   "source": [
    "def wsb_leaderboard(n, hours):\n",
    "    wsb_comments = comments_scraper('wallstreetbets', hours, case_sensitive = True)\n",
    "\n",
    "    frequencies = []\n",
    "    for tick in wsb_ticker_list:\n",
    "        if tick not in stopwords_list:\n",
    "            frequencies.append(wsb_comments[tick])\n",
    "        else:\n",
    "            frequencies.append(0)\n",
    "\n",
    "    wsb_tickers_and_counts = pd.DataFrame([wsb_name_list, wsb_ticker_list, frequencies]).T\n",
    "    wsb_tickers_and_counts.columns = ['stock','ticker','frequency']\n",
    "    wsb_tickers_and_counts = wsb_tickers_and_counts.sort_values(by = ['frequency'], ascending = False)[0:n]\n",
    "    wsb_tickers_and_counts.index = range(1,n+1)\n",
    "    return wsb_tickers_and_counts"
   ]
  },
  {
   "cell_type": "code",
   "execution_count": 57,
   "metadata": {},
   "outputs": [],
   "source": [
    "def ssb_leaderboard(n, hours):\n",
    "    ssb_comments = comments_scraper('satoshistreetbets', hours, case_sensitive = True)\n",
    "\n",
    "    frequencies = []\n",
    "\n",
    "    for coin in range(len(ssb_name_list)):\n",
    "        freq = 0\n",
    "        #print(name_list[coin], ticker_list[coin])\n",
    "        if ssb_name_list[coin] not in stopwords_list:\n",
    "            freq+=ssb_comments[ssb_name_list[coin]]\n",
    "        else:\n",
    "            freq+=0\n",
    "        if ssb_ticker_list[coin] not in stopwords_list:\n",
    "            freq+=ssb_comments[ssb_ticker_list[coin]]\n",
    "        else:\n",
    "            freq+=0        \n",
    "\n",
    "        frequencies.append(freq)\n",
    "\n",
    "    ssb_tickers_and_counts = pd.DataFrame([ssb_name_list, ssb_ticker_list, frequencies]).T\n",
    "    ssb_tickers_and_counts.columns = ['stock','ticker','frequency']\n",
    "    ssb_tickers_and_counts = ssb_tickers_and_counts.sort_values(by = ['frequency'], ascending = False)[0:n]\n",
    "    ssb_tickers_and_counts.index = range(1,n+1)\n",
    "    return ssb_tickers_and_counts\n",
    "    \n"
   ]
  },
  {
   "cell_type": "code",
   "execution_count": 58,
   "metadata": {},
   "outputs": [],
   "source": [
    "wsb = wsb_leaderboard(10,6)"
   ]
  },
  {
   "cell_type": "code",
   "execution_count": 59,
   "metadata": {},
   "outputs": [
    {
     "data": {
      "text/html": [
       "<div>\n",
       "<style scoped>\n",
       "    .dataframe tbody tr th:only-of-type {\n",
       "        vertical-align: middle;\n",
       "    }\n",
       "\n",
       "    .dataframe tbody tr th {\n",
       "        vertical-align: top;\n",
       "    }\n",
       "\n",
       "    .dataframe thead th {\n",
       "        text-align: right;\n",
       "    }\n",
       "</style>\n",
       "<table border=\"1\" class=\"dataframe\">\n",
       "  <thead>\n",
       "    <tr style=\"text-align: right;\">\n",
       "      <th></th>\n",
       "      <th>stock</th>\n",
       "      <th>ticker</th>\n",
       "      <th>frequency</th>\n",
       "    </tr>\n",
       "  </thead>\n",
       "  <tbody>\n",
       "    <tr>\n",
       "      <td>1</td>\n",
       "      <td>GameStop</td>\n",
       "      <td>GME</td>\n",
       "      <td>438</td>\n",
       "    </tr>\n",
       "    <tr>\n",
       "      <td>2</td>\n",
       "      <td>AMC Entertainment</td>\n",
       "      <td>AMC</td>\n",
       "      <td>95</td>\n",
       "    </tr>\n",
       "    <tr>\n",
       "      <td>3</td>\n",
       "      <td>Rocket Companies</td>\n",
       "      <td>RKT</td>\n",
       "      <td>82</td>\n",
       "    </tr>\n",
       "    <tr>\n",
       "      <td>4</td>\n",
       "      <td>UWM Holdings</td>\n",
       "      <td>UWMC</td>\n",
       "      <td>53</td>\n",
       "    </tr>\n",
       "    <tr>\n",
       "      <td>5</td>\n",
       "      <td>Palantir</td>\n",
       "      <td>PLTR</td>\n",
       "      <td>51</td>\n",
       "    </tr>\n",
       "    <tr>\n",
       "      <td>6</td>\n",
       "      <td>DuPont</td>\n",
       "      <td>DD</td>\n",
       "      <td>48</td>\n",
       "    </tr>\n",
       "    <tr>\n",
       "      <td>7</td>\n",
       "      <td>Restoration Hardware</td>\n",
       "      <td>RH</td>\n",
       "      <td>37</td>\n",
       "    </tr>\n",
       "    <tr>\n",
       "      <td>8</td>\n",
       "      <td>Tanger Factory Outlet Centers</td>\n",
       "      <td>SKT</td>\n",
       "      <td>22</td>\n",
       "    </tr>\n",
       "    <tr>\n",
       "      <td>9</td>\n",
       "      <td>Purple Innovation</td>\n",
       "      <td>PRPL</td>\n",
       "      <td>16</td>\n",
       "    </tr>\n",
       "    <tr>\n",
       "      <td>10</td>\n",
       "      <td>Tesla</td>\n",
       "      <td>TSLA</td>\n",
       "      <td>10</td>\n",
       "    </tr>\n",
       "  </tbody>\n",
       "</table>\n",
       "</div>"
      ],
      "text/plain": [
       "                            stock ticker frequency\n",
       "1                        GameStop    GME       438\n",
       "2               AMC Entertainment    AMC        95\n",
       "3                Rocket Companies    RKT        82\n",
       "4                    UWM Holdings   UWMC        53\n",
       "5                        Palantir   PLTR        51\n",
       "6                          DuPont     DD        48\n",
       "7            Restoration Hardware     RH        37\n",
       "8   Tanger Factory Outlet Centers    SKT        22\n",
       "9               Purple Innovation   PRPL        16\n",
       "10                          Tesla   TSLA        10"
      ]
     },
     "execution_count": 59,
     "metadata": {},
     "output_type": "execute_result"
    }
   ],
   "source": [
    "wsb"
   ]
  },
  {
   "cell_type": "code",
   "execution_count": 43,
   "metadata": {},
   "outputs": [],
   "source": [
    "def string_form(df):\n",
    "    string_form = \"*Ticker, Name: Frequency*\\n\"\n",
    "    for i in range(df.shape[0]):\n",
    "        string_form += df.iloc[i].ticker +\", \"+ df.iloc[i].stock +\": \"+ str(df.iloc[i].frequency)+\"\\n\"\n",
    "    return(string_form)"
   ]
  },
  {
   "cell_type": "code",
   "execution_count": 45,
   "metadata": {},
   "outputs": [
    {
     "name": "stdout",
     "output_type": "stream",
     "text": [
      "*Ticker, Name: Frequency*\n",
      "GME, GameStop: 371\n",
      "AMC, AMC Entertainment: 95\n",
      "RKT, Rocket Companies: 82\n",
      "RH, Restoration Hardware: 69\n",
      "PLTR, Palantir: 57\n",
      "UWMC, UWM Holdings: 50\n",
      "DD, DuPont: 42\n",
      "SKT, Tanger Factory Outlet Centers: 24\n",
      "PRPL, Purple Innovation: 15\n",
      "TD, Toronto-Dominion Bank: 14\n",
      "\n"
     ]
    }
   ],
   "source": [
    "print(string_form(wsb))\n"
   ]
  },
  {
   "cell_type": "code",
   "execution_count": 9,
   "metadata": {},
   "outputs": [
    {
     "data": {
      "text/html": [
       "<div>\n",
       "<style scoped>\n",
       "    .dataframe tbody tr th:only-of-type {\n",
       "        vertical-align: middle;\n",
       "    }\n",
       "\n",
       "    .dataframe tbody tr th {\n",
       "        vertical-align: top;\n",
       "    }\n",
       "\n",
       "    .dataframe thead th {\n",
       "        text-align: right;\n",
       "    }\n",
       "</style>\n",
       "<table border=\"1\" class=\"dataframe\">\n",
       "  <thead>\n",
       "    <tr style=\"text-align: right;\">\n",
       "      <th></th>\n",
       "      <th>name</th>\n",
       "      <th>ticker</th>\n",
       "      <th>frequency</th>\n",
       "    </tr>\n",
       "  </thead>\n",
       "  <tbody>\n",
       "    <tr>\n",
       "      <td>4</td>\n",
       "      <td>Cardano</td>\n",
       "      <td>ADA</td>\n",
       "      <td>108</td>\n",
       "    </tr>\n",
       "    <tr>\n",
       "      <td>63</td>\n",
       "      <td>Enjin Coin</td>\n",
       "      <td>ENJ</td>\n",
       "      <td>79</td>\n",
       "    </tr>\n",
       "    <tr>\n",
       "      <td>0</td>\n",
       "      <td>Bitcoin</td>\n",
       "      <td>BTC</td>\n",
       "      <td>46</td>\n",
       "    </tr>\n",
       "    <tr>\n",
       "      <td>26</td>\n",
       "      <td>VeChain</td>\n",
       "      <td>VET</td>\n",
       "      <td>27</td>\n",
       "    </tr>\n",
       "    <tr>\n",
       "      <td>1</td>\n",
       "      <td>Ethereum</td>\n",
       "      <td>ETH</td>\n",
       "      <td>22</td>\n",
       "    </tr>\n",
       "    <tr>\n",
       "      <td>6</td>\n",
       "      <td>XRP</td>\n",
       "      <td>XRP</td>\n",
       "      <td>18</td>\n",
       "    </tr>\n",
       "    <tr>\n",
       "      <td>119</td>\n",
       "      <td>Harmony</td>\n",
       "      <td>ONE</td>\n",
       "      <td>17</td>\n",
       "    </tr>\n",
       "    <tr>\n",
       "      <td>90</td>\n",
       "      <td>Decentraland</td>\n",
       "      <td>MANA</td>\n",
       "      <td>17</td>\n",
       "    </tr>\n",
       "    <tr>\n",
       "      <td>60</td>\n",
       "      <td>BitTorrent</td>\n",
       "      <td>BTT</td>\n",
       "      <td>17</td>\n",
       "    </tr>\n",
       "    <tr>\n",
       "      <td>84</td>\n",
       "      <td>Chiliz</td>\n",
       "      <td>CHZ</td>\n",
       "      <td>16</td>\n",
       "    </tr>\n",
       "  </tbody>\n",
       "</table>\n",
       "</div>"
      ],
      "text/plain": [
       "             name ticker frequency\n",
       "4         Cardano    ADA       108\n",
       "63     Enjin Coin    ENJ        79\n",
       "0         Bitcoin    BTC        46\n",
       "26        VeChain    VET        27\n",
       "1        Ethereum    ETH        22\n",
       "6             XRP    XRP        18\n",
       "119       Harmony    ONE        17\n",
       "90   Decentraland   MANA        17\n",
       "60     BitTorrent    BTT        17\n",
       "84         Chiliz    CHZ        16"
      ]
     },
     "execution_count": 9,
     "metadata": {},
     "output_type": "execute_result"
    }
   ],
   "source": [
    "ssb_leaderboard(10,6)"
   ]
  },
  {
   "cell_type": "code",
   "execution_count": 10,
   "metadata": {},
   "outputs": [
    {
     "name": "stdout",
     "output_type": "stream",
     "text": [
      "Done in 55.63 seconds.\n"
     ]
    }
   ],
   "source": [
    "end = time.time()\n",
    "print(\"Done in\", round((end - start), 2), \"seconds.\")"
   ]
  }
 ],
 "metadata": {
  "kernelspec": {
   "display_name": "Python 3",
   "language": "python",
   "name": "python3"
  },
  "language_info": {
   "codemirror_mode": {
    "name": "ipython",
    "version": 3
   },
   "file_extension": ".py",
   "mimetype": "text/x-python",
   "name": "python",
   "nbconvert_exporter": "python",
   "pygments_lexer": "ipython3",
   "version": "3.7.4"
  }
 },
 "nbformat": 4,
 "nbformat_minor": 2
}
