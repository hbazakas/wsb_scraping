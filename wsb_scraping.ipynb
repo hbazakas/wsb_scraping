{
 "cells": [
  {
   "cell_type": "markdown",
   "metadata": {},
   "source": [
    "## wallstreetbets Trend Data\n",
    "\n",
    "This notebook looks at recent posts from r/wallstreetbets to determine the hottest stocks right now. The onjective is to determine what stocks are generating buzz on the internet in hopes of anticipating future movement.\n",
    "\n",
    "First, it scrapes all stock tickers currently in use to create a list of symbols to search for.\n",
    "\n",
    "Next, it uses PRAW, a Python Wrapper for Reddit's API, to scrape the comments from the 25 hottest posts in r/wallstreetbets. It then parses these comments to find the most commonly referenced ticker symbols, excepting tickers that are also common english words (I, A, AN, etc.).\n",
    "\n",
    "\n",
    "Credit to Gilbert Tanner, writer of <a href = \"https://towardsdatascience.com/scraping-reddit-data-1c0af3040768\">this</a> article detailing how to use PRAW to scrape Reddit data."
   ]
  },
  {
   "cell_type": "markdown",
   "metadata": {},
   "source": [
    "### Imports"
   ]
  },
  {
   "cell_type": "code",
   "execution_count": 27,
   "metadata": {},
   "outputs": [],
   "source": [
    "import praw\n",
    "import pandas as pd\n",
    "import time\n",
    "import requests\n",
    "from bs4 import BeautifulSoup\n",
    "from collections import Counter\n",
    "from nltk.corpus import stopwords\n"
   ]
  },
  {
   "cell_type": "markdown",
   "metadata": {},
   "source": [
    "### All Ticker Symbols\n",
    "\n",
    "Uses <a href = 'https://www.crummy.com/software/BeautifulSoup/bs4/doc/'>BeautifulSoup</a> to scrape a list of stock tickers from https://stockanalysis.com/stocks/. Leaves us with a list of 661 stock tickers and the corresponding name of each company. This is the universe of stocks we will look for in trends from Reddit data."
   ]
  },
  {
   "cell_type": "code",
   "execution_count": 28,
   "metadata": {},
   "outputs": [
    {
     "data": {
      "text/plain": [
       "(6677, 6677)"
      ]
     },
     "execution_count": 28,
     "metadata": {},
     "output_type": "execute_result"
    }
   ],
   "source": [
    "URL = 'https://stockanalysis.com/stocks/'\n",
    "page = requests.get(URL)\n",
    "soup = BeautifulSoup(page.content, 'lxml')\n",
    "tickers = soup.find_all('li')\n",
    "\n",
    "ticker_list = []\n",
    "name_list = []\n",
    "\n",
    "for i in tickers[12:-18]:\n",
    "    #print(i.text.split(\" - \"))\n",
    "    ticker_list.append(i.text.split(\" - \")[0])\n",
    "    name_list.append(i.text.split(\" - \")[1])\n",
    "    \n",
    "len(ticker_list), len(name_list)"
   ]
  },
  {
   "cell_type": "markdown",
   "metadata": {},
   "source": [
    "### Reddit Data"
   ]
  },
  {
   "cell_type": "code",
   "execution_count": 29,
   "metadata": {},
   "outputs": [],
   "source": [
    "reddit = praw.Reddit(client_id='HG7dA6CRLvCD_w',\n",
    "                     client_secret='rH5FP42F__la6jpUdt01BQvZU48WiA', \n",
    "                     user_agent='WSB_Trends')"
   ]
  },
  {
   "cell_type": "code",
   "execution_count": 30,
   "metadata": {},
   "outputs": [],
   "source": [
    "posts = []\n",
    "ml_subreddit = reddit.subreddit('wallstreetbets')\n",
    "for post in ml_subreddit.hot(limit = 25):\n",
    "    posts.append([post.title, post.score, post.id, post.subreddit, post.url, post.num_comments, post.selftext, post.created])\n",
    "posts = pd.DataFrame(posts,columns=['title', 'score', 'id', 'subreddit', 'url', 'num_comments', 'body', 'created'])\n",
    "\n",
    "#print(posts)"
   ]
  },
  {
   "cell_type": "code",
   "execution_count": 42,
   "metadata": {
    "scrolled": false
   },
   "outputs": [
    {
     "name": "stdout",
     "output_type": "stream",
     "text": [
      "5439\n"
     ]
    }
   ],
   "source": [
    "## All comments within the last 6 hours from top 25 hottest posts in WSB\n",
    "comment_count = 0\n",
    "comments_last_hour = \"\"\n",
    "\n",
    "\n",
    "for post_id in posts.id:\n",
    "    submission = reddit.submission(id=post_id)\n",
    "    submission.comments.replace_more(limit=0)\n",
    "    for comment in submission.comments.list():\n",
    "        '''Loops through all comments. comment.body is a string with each comment's contents. \n",
    "        comment.created is the time the comment was created.'''\n",
    "        comment_age = (comment.created - time.time())/3600\n",
    "        if comment_age <=6:\n",
    "            comments_last_hour += comment.body + \" \"\n",
    "            comment_count+=1\n",
    "\n",
    "print(comment_count)"
   ]
  },
  {
   "cell_type": "code",
   "execution_count": 43,
   "metadata": {},
   "outputs": [],
   "source": [
    "for character in'$ -.,\\n':\n",
    "    comments_last_hour = comments_last_hour.replace(character, \" \")\n",
    "#comments_last_hour = comments_last_hour.upper()\n",
    "\n",
    "comments_last_hour = comments_last_hour.split()\n",
    "last_hour_word_counts = Counter(comments_last_hour)"
   ]
  },
  {
   "cell_type": "code",
   "execution_count": 44,
   "metadata": {
    "scrolled": true
   },
   "outputs": [],
   "source": [
    "stopwords_list = stopwords.words('english')\n",
    "\n",
    "for ind in range(len(stopwords_list)):\n",
    "    stopwords_list[ind] = stopwords_list[ind].upper()"
   ]
  },
  {
   "cell_type": "code",
   "execution_count": 45,
   "metadata": {},
   "outputs": [],
   "source": [
    "frequencies = []\n",
    "for tick in ticker_list:\n",
    "    if tick not in stopwords_list:\n",
    "        frequencies.append(last_hour_word_counts[tick])\n",
    "    else:\n",
    "        frequencies.append(0)"
   ]
  },
  {
   "cell_type": "code",
   "execution_count": 46,
   "metadata": {},
   "outputs": [
    {
     "data": {
      "text/html": [
       "<div>\n",
       "<style scoped>\n",
       "    .dataframe tbody tr th:only-of-type {\n",
       "        vertical-align: middle;\n",
       "    }\n",
       "\n",
       "    .dataframe tbody tr th {\n",
       "        vertical-align: top;\n",
       "    }\n",
       "\n",
       "    .dataframe thead th {\n",
       "        text-align: right;\n",
       "    }\n",
       "</style>\n",
       "<table border=\"1\" class=\"dataframe\">\n",
       "  <thead>\n",
       "    <tr style=\"text-align: right;\">\n",
       "      <th></th>\n",
       "      <th>name</th>\n",
       "      <th>ticker</th>\n",
       "      <th>frequency</th>\n",
       "    </tr>\n",
       "  </thead>\n",
       "  <tbody>\n",
       "    <tr>\n",
       "      <td>2572</td>\n",
       "      <td>GameStop</td>\n",
       "      <td>GME</td>\n",
       "      <td>616</td>\n",
       "    </tr>\n",
       "    <tr>\n",
       "      <td>5061</td>\n",
       "      <td>Rocket Companies</td>\n",
       "      <td>RKT</td>\n",
       "      <td>234</td>\n",
       "    </tr>\n",
       "    <tr>\n",
       "      <td>6218</td>\n",
       "      <td>UWM Holdings</td>\n",
       "      <td>UWMC</td>\n",
       "      <td>122</td>\n",
       "    </tr>\n",
       "    <tr>\n",
       "      <td>1682</td>\n",
       "      <td>DuPont</td>\n",
       "      <td>DD</td>\n",
       "      <td>68</td>\n",
       "    </tr>\n",
       "    <tr>\n",
       "      <td>5043</td>\n",
       "      <td>Restoration Hardware</td>\n",
       "      <td>RH</td>\n",
       "      <td>54</td>\n",
       "    </tr>\n",
       "    <tr>\n",
       "      <td>310</td>\n",
       "      <td>AMC Entertainment</td>\n",
       "      <td>AMC</td>\n",
       "      <td>33</td>\n",
       "    </tr>\n",
       "    <tr>\n",
       "      <td>1051</td>\n",
       "      <td>Caterpillar</td>\n",
       "      <td>CAT</td>\n",
       "      <td>24</td>\n",
       "    </tr>\n",
       "    <tr>\n",
       "      <td>1159</td>\n",
       "      <td>CNOOC Limited</td>\n",
       "      <td>CEO</td>\n",
       "      <td>14</td>\n",
       "    </tr>\n",
       "    <tr>\n",
       "      <td>682</td>\n",
       "      <td>BlackBerry</td>\n",
       "      <td>BB</td>\n",
       "      <td>12</td>\n",
       "    </tr>\n",
       "    <tr>\n",
       "      <td>1497</td>\n",
       "      <td>Corsair Gaming</td>\n",
       "      <td>CRSR</td>\n",
       "      <td>11</td>\n",
       "    </tr>\n",
       "    <tr>\n",
       "      <td>6105</td>\n",
       "      <td>Unity Software</td>\n",
       "      <td>U</td>\n",
       "      <td>10</td>\n",
       "    </tr>\n",
       "    <tr>\n",
       "      <td>4715</td>\n",
       "      <td>Palantir</td>\n",
       "      <td>PLTR</td>\n",
       "      <td>8</td>\n",
       "    </tr>\n",
       "    <tr>\n",
       "      <td>6146</td>\n",
       "      <td>Ucommune International</td>\n",
       "      <td>UK</td>\n",
       "      <td>6</td>\n",
       "    </tr>\n",
       "    <tr>\n",
       "      <td>5433</td>\n",
       "      <td>Super League Gaming</td>\n",
       "      <td>SLGG</td>\n",
       "      <td>6</td>\n",
       "    </tr>\n",
       "    <tr>\n",
       "      <td>2606</td>\n",
       "      <td>Grocery Outlet</td>\n",
       "      <td>GO</td>\n",
       "      <td>5</td>\n",
       "    </tr>\n",
       "  </tbody>\n",
       "</table>\n",
       "</div>"
      ],
      "text/plain": [
       "                        name ticker frequency\n",
       "2572                GameStop    GME       616\n",
       "5061        Rocket Companies    RKT       234\n",
       "6218            UWM Holdings   UWMC       122\n",
       "1682                  DuPont     DD        68\n",
       "5043    Restoration Hardware     RH        54\n",
       "310        AMC Entertainment    AMC        33\n",
       "1051             Caterpillar    CAT        24\n",
       "1159           CNOOC Limited    CEO        14\n",
       "682               BlackBerry     BB        12\n",
       "1497          Corsair Gaming   CRSR        11\n",
       "6105          Unity Software      U        10\n",
       "4715                Palantir   PLTR         8\n",
       "6146  Ucommune International     UK         6\n",
       "5433     Super League Gaming   SLGG         6\n",
       "2606          Grocery Outlet     GO         5"
      ]
     },
     "execution_count": 46,
     "metadata": {},
     "output_type": "execute_result"
    }
   ],
   "source": [
    "tickers_and_counts = pd.DataFrame([name_list, ticker_list, frequencies]).T\n",
    "tickers_and_counts.columns = ['name','ticker','frequency']\n",
    "tickers_and_counts.sort_values(by = ['frequency'], ascending = False)[0:15]"
   ]
  },
  {
   "cell_type": "code",
   "execution_count": null,
   "metadata": {},
   "outputs": [],
   "source": []
  },
  {
   "cell_type": "code",
   "execution_count": null,
   "metadata": {},
   "outputs": [],
   "source": []
  }
 ],
 "metadata": {
  "kernelspec": {
   "display_name": "Python 3",
   "language": "python",
   "name": "python3"
  },
  "language_info": {
   "codemirror_mode": {
    "name": "ipython",
    "version": 3
   },
   "file_extension": ".py",
   "mimetype": "text/x-python",
   "name": "python",
   "nbconvert_exporter": "python",
   "pygments_lexer": "ipython3",
   "version": "3.7.4"
  }
 },
 "nbformat": 4,
 "nbformat_minor": 2
}
